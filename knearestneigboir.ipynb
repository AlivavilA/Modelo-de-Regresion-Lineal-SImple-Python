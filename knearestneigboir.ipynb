{
 "cells": [
  {
   "cell_type": "markdown",
   "metadata": {},
   "source": [
    "## K Nearest Neighbor\n",
    "- Librerias"
   ]
  },
  {
   "cell_type": "code",
   "execution_count": 1,
   "metadata": {},
   "outputs": [],
   "source": [
    "import numpy as np\n",
    "import matplotlib.pyplot as plt\n",
    "import pandas as pd\n",
    "from collections import Counter\n",
    "df = pd.read_csv('value_knn.csv')\n",
    "xy_red = df[['x','y']]\n",
    "xy_blue = df[['x1','y1']]\n",
    "x_red = df['x']\n",
    "y_red = df['y']\n",
    "x_blue = df['x']\n",
    "y_blue = df['y']\n",
    "\n",
    "new_point = [3,3]\n",
    "new_x = new_point[0]\n",
    "new_y = new_point[1]\n"
   ]
  },
  {
   "cell_type": "markdown",
   "metadata": {},
   "source": [
    "## Graficado de puntos"
   ]
  },
  {
   "cell_type": "code",
   "execution_count": 2,
   "metadata": {},
   "outputs": [
    {
     "data": {
      "image/png": "[encoded data removed]",
      "text/plain": [
       "<Figure size 640x480 with 1 Axes>"
      ]
     },
     "metadata": {},
     "output_type": "display_data"
    }
   ],
   "source": [
    "plt.figure()\n",
    "plt.plot(x_red,y_red,'ro')\n",
    "plt.plot(x_blue,y_blue,'bo')\n",
    "plt.plot(new_x,new_y,'go')\n",
    "plt.xlabel('Eje X')\n",
    "plt.ylabel('Eje Y')\n",
    "plt.title('Gráfico de puntos')\n",
    "plt.show()"
   ]
  },
  {
   "attachments": {
    "image.png": {
     "image/png": "[encoded data removed]"
    }
   },
   "cell_type": "markdown",
   "metadata": {},
   "source": [
    "Distancia Euclidiana\n",
    "\n",
    "![image.png](attachment:image.png)"
   ]
  },
  {
   "cell_type": "code",
   "execution_count": 21,
   "metadata": {},
   "outputs": [],
   "source": [
    "def euclid_dist(a,b):\n",
    "    a = np.array(a)\n",
    "    b = np.array(b)\n",
    "    dist = np.sqrt(np.sum((b-a)**2))\n",
    "    return dist\n",
    "\n"
   ]
  },
  {
   "cell_type": "code",
   "execution_count": null,
   "metadata": {},
   "outputs": [],
   "source": [
    "class Kvecinomascercano:\n",
    "    def __init__(self, k=3):\n",
    "        self.k = k\n",
    "        self.puntos"
   ]
  },
  {
   "cell_type": "code",
   "execution_count": 25,
   "metadata": {},
   "outputs": [
    {
     "name": "stdout",
     "output_type": "stream",
     "text": [
      "blue\n"
     ]
    }
   ],
   "source": [
    "import numpy as np\n",
    "import matplotlib.pyplot as plt\n",
    "from collections import Counter\n",
    "\n",
    "points = {'blue': [[2,4], [1,3], [2,3], [3,2], [2,1]],\n",
    "          'orange': [[5,6], [4,5], [4,6], [6,6], [5,4]]}\n",
    "\n",
    "new_point = [3,3]\n",
    "\n",
    "\n",
    "def euclidean_distance(p, q):\n",
    "    return np.sqrt(np.sum((np.array(p) - np.array(q)) ** 2))\n",
    "\n",
    "\n",
    "class KNearestNeighbors:\n",
    "\n",
    "    def __init__(self, k=3):\n",
    "        self.k = k\n",
    "        self.points = None\n",
    "\n",
    "    def fit(self, points):\n",
    "        self.points = points\n",
    "\n",
    "    def predict(self, new_point):\n",
    "        distances = []\n",
    "\n",
    "        for category in self.points:\n",
    "            for point in self.points[category]:\n",
    "                distance = euclidean_distance(point, new_point)\n",
    "                distances.append([distance, category])\n",
    "\n",
    "        categories = [category[1] for category in sorted(distances)[:self.k]]\n",
    "        result = Counter(categories).most_common(1)[0][0]\n",
    "        return result\n",
    "\n",
    "\n",
    "clf = KNearestNeighbors(k=3)\n",
    "clf.fit(points)\n",
    "print(clf.predict(new_point))\n"
   ]
  }
 ],
 "metadata": {
  "kernelspec": {
   "display_name": "Python 3",
   "language": "python",
   "name": "python3"
  },
  "language_info": {
   "codemirror_mode": {
    "name": "ipython",
    "version": 3
   },
   "file_extension": ".py",
   "mimetype": "text/x-python",
   "name": "python",
   "nbconvert_exporter": "python",
   "pygments_lexer": "ipython3",
   "version": "3.10.12"
  }
 },
 "nbformat": 4,
 "nbformat_minor": 2
}
